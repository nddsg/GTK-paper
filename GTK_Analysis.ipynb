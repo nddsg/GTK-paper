{
 "cells": [
  {
   "cell_type": "markdown",
   "metadata": {},
   "source": [
    "<br><br><br><br>\n",
    "<hr>\n",
    "\n",
    "# Packages and Versions used in this Notebook"
   ]
  },
  {
   "cell_type": "code",
   "execution_count": 204,
   "metadata": {},
   "outputs": [
    {
     "name": "stdout",
     "output_type": "stream",
     "text": [
      "seaborn==0.8.1\n",
      "sklearn==0.0\n",
      "scipy==0.19.1\n",
      "pandas==0.21.0\n",
      "numpy==1.14.3\n",
      "matplotlib==2.0.2\n"
     ]
    }
   ],
   "source": [
    "import pkg_resources\n",
    "import types\n",
    "def get_imports():\n",
    "    for name, val in globals().items():\n",
    "        if isinstance(val, types.ModuleType): \n",
    "            name = val.__name__.split(\".\")[0]\n",
    "        elif isinstance(val, type):\n",
    "            name = val.__module__.split(\".\")[0]\n",
    "        yield name\n",
    "imports = list(set(get_imports()))\n",
    "requirements = []\n",
    "for m in pkg_resources.working_set:\n",
    "    if m.project_name in imports and m.project_name!=\"pip\":\n",
    "        requirements.append((m.project_name, m.version))\n",
    "\n",
    "for r in requirements:\n",
    "    print(\"{}=={}\".format(*r))"
   ]
  },
  {
   "cell_type": "markdown",
   "metadata": {},
   "source": [
    "### Imports "
   ]
  },
  {
   "cell_type": "code",
   "execution_count": 170,
   "metadata": {},
   "outputs": [],
   "source": [
    "import pandas as pd\n",
    "pd.set_option('precision',3)\n",
    "pd.set_option('expand_frame_repr', False)\n",
    "\n",
    "from sklearn.linear_model import LinearRegression\n",
    "from sklearn.linear_model import LogisticRegression\n",
    "from collections import Counter\n",
    "import math\n",
    "\n",
    "import numpy as np\n",
    "import scipy.stats as stats\n",
    "\n",
    "import seaborn as sns \n",
    "import matplotlib.pyplot as plt\n",
    "%matplotlib inline\n",
    " "
   ]
  },
  {
   "cell_type": "code",
   "execution_count": 79,
   "metadata": {},
   "outputs": [],
   "source": [
    "\n",
    "def mean_confidence_interval(data, confidence=0.95):\n",
    "    a = 1.0*np.array(data)\n",
    "    n = len(a)\n",
    "    m, se = np.mean(a), stats.sem(a)\n",
    "    h = se * stats.t._ppf((1+confidence)/2., n-1)\n",
    "    return m, h\n",
    "\n",
    "def conf_interval(data, confidence=0.95):\n",
    "    a = 1.0*np.array(data)\n",
    "    n = len(a)\n",
    "    m, se = np.mean(a), stats.sem(a)\n",
    "    h = se * stats.t._ppf((1+confidence)/2., n-1)\n",
    "    return h"
   ]
  },
  {
   "cell_type": "markdown",
   "metadata": {},
   "source": [
    "### Load Data"
   ]
  },
  {
   "cell_type": "code",
   "execution_count": 59,
   "metadata": {},
   "outputs": [],
   "source": [
    "votes = pd.read_csv('./Data/player_judgements.csv')\n",
    "pairs = pd.read_csv('./Data/image_pairs.csv')"
   ]
  },
  {
   "cell_type": "code",
   "execution_count": 60,
   "metadata": {},
   "outputs": [],
   "source": [
    "votes_with_pref = votes[votes['asked_for_preference']==1]"
   ]
  },
  {
   "cell_type": "markdown",
   "metadata": {},
   "source": [
    "#### Data Summary"
   ]
  },
  {
   "cell_type": "code",
   "execution_count": null,
   "metadata": {},
   "outputs": [],
   "source": [
    "votes_raw['agreement'] = votes_raw['prop_select_preference_majority']\n",
    "pairs_raw['agreement'] = pairs_raw['prop_select_preference_majority']\n",
    "\n",
    "votes_raw['agreement_bin'] = votes_raw['preference_agreement_bin']\n",
    "pairs_raw['agreement_bin'] = pairs_raw['preference_agreement_bin'] \n",
    "\n",
    "print(len(votes_raw),'votes, ',len(pairs_raw),'pairs')\n",
    "\n",
    "votes = votes_raw[votes_raw['agreement']>0.5]\n",
    "pairs = pairs_raw[pairs_raw['agreement']>0.5] \n",
    "\n",
    "print(len(votes),'votes, ',len(pairs),'pairs with > 0.5 agreement')\n",
    "\n",
    "votes_with_pref = votes[votes['asked_for_preference']==1]"
   ]
  },
  {
   "cell_type": "code",
   "execution_count": 61,
   "metadata": {},
   "outputs": [],
   "source": [
    "groundtruth ='GTK Majority Preference'\n",
    "player_predictor_column = 'prediction_matches_preference_majority' \n",
    "reddit_predictor_column = 'reddit_matches_preference_majority'\n",
    "imgur_predictor_column = 'imgur_matches_preference_majority'\n",
    "\n",
    "platform_predictors = [reddit_predictor_column,imgur_predictor_column]\n",
    "player_predictors =[player_predictor_column]+['preference_matches_preference_majority']"
   ]
  },
  {
   "cell_type": "code",
   "execution_count": 62,
   "metadata": {},
   "outputs": [],
   "source": [
    "translateAbbrv = {'prediction_matches_preference_majority':'Player Predictions', 'preference_matches_prediction_majority':'Player Preferences',\n",
    "                       'reddit_matches_preference_majority':'Reddit Vote-Scores','reddit_matches_prediction_majority':'Reddit Vote-Scores',\n",
    "                        'imgur_matches_preference_majority':'Imgur View-Counts','imgur_matches_prediction_majority':'Imgur View-Counts'}\n",
    " "
   ]
  },
  {
   "cell_type": "code",
   "execution_count": 63,
   "metadata": {},
   "outputs": [
    {
     "name": "stdout",
     "output_type": "stream",
     "text": [
      "       subreddit  N Judgements\n",
      "0   CrappyDesign          1726\n",
      "1      EarthPorn          1484\n",
      "2  OldSchoolCool          3460\n",
      "3            aww          3334\n",
      "4          funny          3090\n",
      "5  itookapicture          3170\n",
      "6  photocritique          1130\n",
      "7           pics          3280\n"
     ]
    }
   ],
   "source": [
    "gb = votes_with_pref.groupby('subreddit',as_index=False).agg({'id':lambda x: len(set(x))}).rename(columns={'id':'N Judgements'})\n",
    "print(gb)"
   ]
  },
  {
   "cell_type": "markdown",
   "metadata": {},
   "source": [
    "## Platform Accuracy \n",
    "### (against GTK preference groundtruth)"
   ]
  },
  {
   "cell_type": "markdown",
   "metadata": {},
   "source": [
    "### Platform Accuracy (Overall)"
   ]
  },
  {
   "cell_type": "code",
   "execution_count": 103,
   "metadata": {},
   "outputs": [
    {
     "name": "stdout",
     "output_type": "stream",
     "text": [
      "reddit_matches_preference_majority \t 68.0 % +- 4.6\n",
      "imgur_matches_preference_majority \t 64.7 % +- 4.7\n"
     ]
    }
   ],
   "source": [
    "# Overall accuracy + 95% confidence intervals\n",
    "for acc in platform_predictors:\n",
    "    mean, interval = mean_confidence_interval(pairs[acc], confidence=0.95)\n",
    "    print( acc, '\\t', round(100*mean,1), '% +-', round(interval*100,1) )"
   ]
  },
  {
   "cell_type": "code",
   "execution_count": 101,
   "metadata": {},
   "outputs": [
    {
     "name": "stdout",
     "output_type": "stream",
     "text": [
      "Correlation of Reddit Scores and Imgur View Counts\n",
      "R2=0.8,p=1.7890491388507044e-112\n"
     ]
    }
   ],
   "source": [
    "imagesA = pairs[['image_A','image_A_score','image_A_imgur_views']].copy()\n",
    "imagesB = pairs[['image_B','image_B_score','image_B_imgur_views']].copy()\n",
    "imagesA.rename(columns={'image_A':'image',\n",
    "                        'image_A_score':'reddit_score',\n",
    "                        'image_A_imgur_views':'imgur_views'},inplace=True)\n",
    "imagesB.rename(columns={'image_B':'image',\n",
    "                        'image_B_score':'reddit_score',\n",
    "                        'image_B_imgur_views':'imgur_views'},inplace=True)\n",
    "images = pd.concat([imagesA,imagesB])\n",
    "images.drop_duplicates(inplace=True)\n",
    "images = images[images['imgur_views']>=0]\n",
    "\n",
    "r, pval = stats.pearsonr(images['reddit_score'],images['imgur_views'])\n",
    "r2 = r * r\n",
    "print('Correlation of Reddit Scores and Imgur View Counts\\nR2={},p={}'.format(round(r2,2),pval))\n"
   ]
  },
  {
   "cell_type": "code",
   "execution_count": 95,
   "metadata": {},
   "outputs": [
    {
     "name": "stdout",
     "output_type": "stream",
     "text": [
      "The image with the higher Imgur-popularity matched the post with the higher Reddit score 86.3% of the time.\n"
     ]
    }
   ],
   "source": [
    "pdat = pairs[pairs['image_A_imgur_views']>=0]\n",
    "imgur_matches_reddit = [int(a>b) for a,b in zip(pdat['image_A_imgur_views'],\n",
    "                                               pdat['image_B_imgur_views'])]\n",
    "pct_match = 100 * sum(imgur_matches_reddit)/float(len(imgur_matches_reddit))\n",
    "print('The image with the higher Imgur-popularity matched the post with the higher Reddit score {}% of the time.'.format(round(pct_match,1)))"
   ]
  },
  {
   "cell_type": "code",
   "execution_count": 104,
   "metadata": {},
   "outputs": [
    {
     "name": "stdout",
     "output_type": "stream",
     "text": [
      "T-test between Reddit and Imgur Accuracy\n",
      "\n",
      "                    X Reddit Vote-Scores Imgur View-Counts\n",
      "0  Reddit Vote-Scores                 --              0.33\n",
      "1   Imgur View-Counts               0.33                --\n"
     ]
    }
   ],
   "source": [
    "# Ttest for difference between reddit and imgur\n",
    "print('T-test between Reddit and Imgur Accuracy\\n')\n",
    "res = pd.DataFrame(columns= ['X']+[translateAbbrv[x] for x in platform_predictors])\n",
    "for acc_col_x in platform_predictors: \n",
    "    accuracy_data_x = pairs[acc_col_x]  \n",
    "    row_dat = [translateAbbrv[acc_col_x]]\n",
    "    for acc_col_y in platform_predictors: \n",
    "        if acc_col_x == acc_col_y:\n",
    "            row_dat.append('--')\n",
    "            continue \n",
    "        accuracy_data_y = pairs[acc_col_y]    \n",
    "    \n",
    "        t, pval = stats.ttest_ind(accuracy_data_x, accuracy_data_y)\n",
    "        notice = ''\n",
    "        if pval < 0.05:\n",
    "            notice = notice + '*'\n",
    "            if pval < 0.01:\n",
    "                notice = notice + '*'\n",
    "        if notice == '':\n",
    "            notice == '  '\n",
    "        row_dat.append(str(round(pval,2))+notice) \n",
    "    res.loc[len(res)] = row_dat  \n",
    "print(res)"
   ]
  },
  {
   "cell_type": "markdown",
   "metadata": {},
   "source": [
    "### Agreement Effect"
   ]
  },
  {
   "cell_type": "code",
   "execution_count": 137,
   "metadata": {},
   "outputs": [
    {
     "data": {
      "image/png": "[encoded data removed]",
      "text/plain": [
       "<matplotlib.figure.Figure at 0x7ff8d09b1898>"
      ]
     },
     "metadata": {},
     "output_type": "display_data"
    },
    {
     "name": "stdout",
     "output_type": "stream",
     "text": [
      "Reddit Vote-Scores\n",
      "Logistic Regression: 1/e^−(0.58+1.4x)  R2:0.0255 p:0.0015\n",
      "\n",
      "\n"
     ]
    },
    {
     "data": {
      "image/png": "[encoded data removed]",
      "text/plain": [
       "<matplotlib.figure.Figure at 0x7ff8d083e2b0>"
      ]
     },
     "metadata": {},
     "output_type": "display_data"
    },
    {
     "name": "stdout",
     "output_type": "stream",
     "text": [
      "Imgur View-Counts\n",
      "Logistic Regression: 1/e^−(0.46+1.1x)  R2:0.0163 p:0.0112\n",
      "\n",
      "\n"
     ]
    }
   ],
   "source": [
    "x_col ='fleiss_kappa'\n",
    "for platform, colorP, acc_col in [('Reddit Vote-Scores','red','reddit_matches_preference_majority'),\n",
    "               ('Imgur View-Counts','green','imgur_matches_preference_majority')]:\n",
    "    pairs.sort_values(by=x_col,inplace=True)\n",
    "    X = np.array(pairs[x_col])\n",
    "    X = X.reshape(-1, 1)\n",
    "    y = np.array(pairs[acc_col]) \n",
    "    LogR = LogisticRegression()\n",
    "    LogR.fit(X, y)\n",
    "    plt.figure()\n",
    "    plt.scatter(X,y,color=colorP)\n",
    "    x_vals = pairs[x_col] \n",
    "    line_x = np.array(x_vals) \n",
    "    line_x = line_x.reshape(-1, 1)\n",
    "    logistic_yhat = [x[1] for x in LogR.predict_proba(line_x)]\n",
    "    rval, p = stats.pearsonr(y,logistic_yhat)\n",
    "    rsquared = rval * rval        \n",
    "    plt.plot(line_x,logistic_yhat,color=colorP)\n",
    "    plt.title(platform)\n",
    "    plt.xlabel(r'$\\kappa$')\n",
    "    plt.ylabel(r'Accuracy') \n",
    "    plt.show() \n",
    "    print(platform)\n",
    "    intercept,coef = LogR.intercept_[0], LogR.coef_[0][0]\n",
    "    print('Logistic Regression: 1/e^−({}+{}x)  R2:{} p:{}\\n\\n'.format(round(intercept,2),\n",
    "                                                    round(coef,1),round(rsquared,4),round(p,4)))\n",
    "    \n",
    "    "
   ]
  },
  {
   "cell_type": "markdown",
   "metadata": {},
   "source": [
    "### Subreddit Effect"
   ]
  },
  {
   "cell_type": "code",
   "execution_count": 190,
   "metadata": {},
   "outputs": [
    {
     "name": "stdout",
     "output_type": "stream",
     "text": [
      "Reddit Vote-Scores\n",
      "\t EarthPorn \n",
      "\t\t 71.4 % +- 13.1\n",
      "\t OldSchoolCool \n",
      "\t\t 64.0 % +- 13.8\n",
      "\t photocritique \n",
      "\t\t 68.0 % +- 13.4\n",
      "\t CrappyDesign \n",
      "\t\t 77.1 % +- 12.3\n",
      "\t pics \n",
      "\t\t 53.1 % +- 14.5\n",
      "\t itookapicture \n",
      "\t\t 82.0 % +- 11.0\n",
      "\t funny \n",
      "\t\t 64.0 % +- 13.8\n",
      "\t aww \n",
      "\t\t 64.6 % +- 14.0\n",
      "Imgur View-Counts\n",
      "\t EarthPorn \n",
      "\t\t 69.4 % +- 13.4\n",
      "\t OldSchoolCool \n",
      "\t\t 68.0 % +- 13.4\n",
      "\t photocritique \n",
      "\t\t 64.0 % +- 13.8\n",
      "\t CrappyDesign \n",
      "\t\t 72.9 % +- 13.0\n",
      "\t pics \n",
      "\t\t 51.0 % +- 14.5\n",
      "\t itookapicture \n",
      "\t\t 76.0 % +- 12.3\n",
      "\t funny \n",
      "\t\t 62.0 % +- 13.9\n",
      "\t aww \n",
      "\t\t 54.2 % +- 14.6\n"
     ]
    }
   ],
   "source": [
    "# accuracy by subreddit\n",
    "for platform, colorP, acc_col in [('Reddit Vote-Scores','red','reddit_matches_preference_majority'),\n",
    "               ('Imgur View-Counts','green','imgur_matches_preference_majority')]:\n",
    "    pdat = pairs[pairs[x_col]>=0].copy()\n",
    "    print(platform)\n",
    "    for sr in set(pdat['subreddit']):\n",
    "        mean, interval =mean_confidence_interval(pdat[pdat['subreddit']==sr][acc_col], confidence=0.95)\n",
    "        print('\\t',sr,'\\n\\t\\t',round(100*mean,1), '% +-', round(interval*100,1))\n",
    "        "
   ]
  },
  {
   "cell_type": "code",
   "execution_count": 185,
   "metadata": {},
   "outputs": [
    {
     "data": {
      "image/png": "[encoded data removed]",
      "text/plain": [
       "<matplotlib.figure.Figure at 0x7ff8cdd8d5f8>"
      ]
     },
     "metadata": {},
     "output_type": "display_data"
    },
    {
     "name": "stdout",
     "output_type": "stream",
     "text": [
      "Reddit Vote-Scores\n",
      "Linear Regression: -0.01x+0.75 R2:0.023 p:0.0025\n",
      "\n",
      "\n"
     ]
    },
    {
     "data": {
      "image/png": "[encoded data removed]",
      "text/plain": [
       "<matplotlib.figure.Figure at 0x7ff8d47c0a20>"
      ]
     },
     "metadata": {},
     "output_type": "display_data"
    },
    {
     "name": "stdout",
     "output_type": "stream",
     "text": [
      "Imgur View-Counts\n",
      "Linear Regression: -0.01x+0.72 R2:0.0193 p:0.0058\n",
      "\n",
      "\n"
     ]
    }
   ],
   "source": [
    "# accuracy as a function of subreddit size, correlation\n",
    "x_col ='million_subscribers'\n",
    "for platform, colorP, acc_col in [('Reddit Vote-Scores','red','reddit_matches_preference_majority'),\n",
    "               ('Imgur View-Counts','green','imgur_matches_preference_majority')]:\n",
    "    pdat = pairs[pairs[x_col]>=0].copy()\n",
    "    pdat.sort_values(by=x_col,inplace=True)\n",
    "    X = np.array(pdat[x_col])\n",
    "    X = X.reshape(-1, 1)\n",
    "    y = np.array(pdat[acc_col]) \n",
    "    LinR = LinearRegression()\n",
    "    LinR.fit(X, y)\n",
    "    plt.figure()\n",
    "    plt.scatter(X,y,color=colorP)\n",
    "    x_vals = pdat[x_col] \n",
    "    line_x = np.array(x_vals) \n",
    "    line_x = line_x.reshape(-1, 1)\n",
    "    linear_yhat = [x for x in LinR.predict(line_x)]\n",
    "    rval, p = stats.pearsonr(y,linear_yhat)\n",
    "    rsquared = rval * rval        \n",
    "    plt.plot(line_x,linear_yhat,color=colorP)\n",
    "    plt.title(platform)\n",
    "    plt.xlabel(r'Subreddit Size')\n",
    "    plt.ylabel(r'Accuracy') \n",
    "    plt.show() \n",
    "    print(platform)\n",
    "    intercept,coef = LinR.intercept_, LinR.coef_[0]\n",
    "    print('Linear Regression: {}x+{} R2:{} p:{}\\n\\n'.format(round(coef,2),round(intercept,2),\n",
    "                                        round(rsquared,4),round(p,4)))\n",
    "\n",
    "    "
   ]
  },
  {
   "cell_type": "markdown",
   "metadata": {},
   "source": [
    "### Image-Pair Score Balance Effect"
   ]
  },
  {
   "cell_type": "code",
   "execution_count": 142,
   "metadata": {},
   "outputs": [
    {
     "data": {
      "image/png": "[encoded data removed]",
      "text/plain": [
       "<matplotlib.figure.Figure at 0x7ff8d0a12550>"
      ]
     },
     "metadata": {},
     "output_type": "display_data"
    },
    {
     "name": "stdout",
     "output_type": "stream",
     "text": [
      "Reddit Vote-Scores\n",
      "Logistic Regression: 1/e^−(0.58+1.5x)  R2:0.0201 p:0.0052\n",
      "\n",
      "\n"
     ]
    },
    {
     "data": {
      "image/png": "[encoded data removed]",
      "text/plain": [
       "<matplotlib.figure.Figure at 0x7ff8d47c0c18>"
      ]
     },
     "metadata": {},
     "output_type": "display_data"
    },
    {
     "name": "stdout",
     "output_type": "stream",
     "text": [
      "Imgur View-Counts\n",
      "Logistic Regression: 1/e^−(0.5+1.3x)  R2:0.0162 p:0.0121\n",
      "\n",
      "\n"
     ]
    }
   ],
   "source": [
    "# accuracy by pair balance\n",
    "# accuracy by delta score percentile difference, logistic regression, R2 and pvalue\n",
    "x_col ='image_pair_percentile_diff'\n",
    "for platform, colorP, acc_col in [('Reddit Vote-Scores','red','reddit_matches_preference_majority'),\n",
    "               ('Imgur View-Counts','green','imgur_matches_preference_majority')]:\n",
    "    pdat = pairs[pairs[x_col]>=0].copy()\n",
    "    pdat.sort_values(by=x_col,inplace=True)\n",
    "    X = np.array(pdat[x_col])\n",
    "    X = X.reshape(-1, 1)\n",
    "    y = np.array(pdat[acc_col]) \n",
    "    LogR = LogisticRegression()\n",
    "    LogR.fit(X, y)\n",
    "    plt.figure()\n",
    "    plt.scatter(X,y,color=colorP)\n",
    "    x_vals = pdat[x_col] \n",
    "    line_x = np.array(x_vals) \n",
    "    line_x = line_x.reshape(-1, 1)\n",
    "    logistic_yhat = [x[1] for x in LogR.predict_proba(line_x)]\n",
    "    rval, p = stats.pearsonr(y,logistic_yhat)\n",
    "    rsquared = rval * rval        \n",
    "    plt.plot(line_x,logistic_yhat,color=colorP)\n",
    "    plt.title(platform)\n",
    "    plt.xlabel(r'Reddit Score-Percentile $\\Delta$')\n",
    "    plt.ylabel(r'Accuracy') \n",
    "    plt.show() \n",
    "    print(platform)\n",
    "    intercept,coef = LogR.intercept_[0], LogR.coef_[0][0]\n",
    "    print('Logistic Regression: 1/e^−({}+{}x)  R2:{} p:{}\\n\\n'.format(round(intercept,2),\n",
    "                                                    round(coef,1),round(rsquared,4),round(p,4)))\n",
    "    \n",
    "    "
   ]
  },
  {
   "cell_type": "markdown",
   "metadata": {},
   "source": [
    "## Individual Player Ratings\n",
    "### (individual players predicting platform outcome)"
   ]
  },
  {
   "cell_type": "code",
   "execution_count": 265,
   "metadata": {},
   "outputs": [
    {
     "data": {
      "text/plain": [
       "Index(['user_id', 'date_created', 'elapsed_time', 'subreddit', 'id',\n",
       "       'image_pair', 'image_A', 'image_A_chosen', 'image_A_chosen_opinion',\n",
       "       'image_A_quantile', 'image_A_imgur_views', 'image_A_score', 'image_B',\n",
       "       'image_B_chosen', 'image_B_chosen_opinion', 'image_B_quantile',\n",
       "       'image_B_imgur_views', 'image_B_score', 'image_A_percentile_label',\n",
       "       'image_B_percentile_label', 'image_pair_label',\n",
       "       'image_pair_percentile_diff', 'image_pair_percentile_diff_bin', 'q_id',\n",
       "       'game_id', 'prediction_majority', 'preference_majority',\n",
       "       'reddit_outcome', 'imgur_outcome', 'prop_select_prediction_majority',\n",
       "       'prop_select_preference_majority', 'prop_select_reddit_outcome',\n",
       "       'prop_select_imgur_outcome',\n",
       "       'prediction_majority_matches_preference_majority',\n",
       "       'reddit_matches_preference_majority',\n",
       "       'reddit_matches_prediction_majority',\n",
       "       'imgur_matches_preference_majority',\n",
       "       'imgur_matches_prediction_majority', 'prediction_agreement_bin',\n",
       "       'preference_agreement_bin', 'prediction', 'preference',\n",
       "       'prediction_matches_preference_majority',\n",
       "       'prediction_matches_prediction_majority', 'prediction_matches_reddit',\n",
       "       'prediction_matches_imgur', 'preference_matches_preference_majority',\n",
       "       'preference_matches_prediction_majority', 'preference_matches_reddit',\n",
       "       'preference_matches_imgur', 'frequency_of_use', 'length_of_use',\n",
       "       'use_subreddit', 'browse_new_queue', 'vote_on_posts',\n",
       "       'completed_survey', 'asked_for_preference', 'agreement',\n",
       "       'agreement_bin', 'response_time_bin', 'n_responses'],\n",
       "      dtype='object')"
      ]
     },
     "execution_count": 265,
     "metadata": {},
     "output_type": "execute_result"
    }
   ],
   "source": [
    "votes.columns"
   ]
  },
  {
   "cell_type": "code",
   "execution_count": null,
   "metadata": {},
   "outputs": [],
   "source": [
    "The results of this task were only slightly better than random guess:\n",
    "personal preference accuracy was 54.0% with a 95% confidence interval of ± 0.8% and the player\n",
    "prediction accuracy was 60.6% ± 0.6%."
   ]
  },
  {
   "cell_type": "code",
   "execution_count": 267,
   "metadata": {},
   "outputs": [
    {
     "name": "stdout",
     "output_type": "stream",
     "text": [
      "image_A_chosen \t 57.7 % +- 0.7\n",
      "image_A_chosen_opinion \t nan % +- nan\n",
      "image_A_chosen \t 57.0 % +- 0.7\n",
      "image_A_chosen_opinion \t 56.8 % +- 0.7\n",
      "image_A_chosen \t 56.9 % +- 0.7\n",
      "image_A_chosen_opinion \t 56.6 % +- 0.7\n",
      "preference_matches_prediction_majority \t 60.4 % +- 0.7\n",
      "prediction_matches_preference_majority \t 61.0 % +- 0.7\n",
      "preference_matches_reddit \t 35.6 % +- 0.5\n",
      "prediction_matches_reddit \t 56.5 % +- 0.5\n",
      "preference_matches_reddit \t 56.1 % +- 0.7\n",
      "prediction_matches_reddit \t 56.4 % +- 0.7\n"
     ]
    }
   ],
   "source": [
    "# personal preference accuracy + 95% confidence interval\n",
    "# player prediction accuracy + 95% confidence interval\n",
    "# Overall accuracy + 95% confidence intervals\n",
    "votes_with_pref2  =votes_with_pref[votes_with_pref['image_pair_percentile_diff']>=0]\n",
    "for acc in ['image_A_chosen','image_A_chosen_opinion']:\n",
    "    mean, interval = mean_confidence_interval(votes[acc], confidence=0.95)\n",
    "    print( acc, '\\t', round(100*mean,1), '% +-', round(interval*100,1) )\n",
    "\n",
    "for acc in ['image_A_chosen','image_A_chosen_opinion']:\n",
    "    mean, interval = mean_confidence_interval(votes_with_pref[acc], confidence=0.95)\n",
    "    print( acc, '\\t', round(100*mean,1), '% +-', round(interval*100,1) )\n",
    "for acc in ['image_A_chosen','image_A_chosen_opinion']:\n",
    "    mean, interval = mean_confidence_interval(votes_with_pref2[acc], confidence=0.95)\n",
    "    print( acc, '\\t', round(100*mean,1), '% +-', round(interval*100,1) )\n",
    "\n",
    "for acc in ['preference_matches_prediction_majority','prediction_matches_preference_majority']:\n",
    "    mean, interval = mean_confidence_interval(votes_with_pref[acc], confidence=0.95)\n",
    "    print( acc, '\\t', round(100*mean,1), '% +-', round(interval*100,1) )\n",
    "\n",
    "for acc in ['preference_matches_reddit','prediction_matches_reddit']:\n",
    "    mean, interval = mean_confidence_interval(votes[acc], confidence=0.95)\n",
    "    print( acc, '\\t', round(100*mean,1), '% +-', round(interval*100,1) )\n",
    "\n",
    "for acc in ['preference_matches_reddit','prediction_matches_reddit']:\n",
    "    mean, interval = mean_confidence_interval(votes_with_pref2[acc], confidence=0.95)\n",
    "    print( acc, '\\t', round(100*mean,1), '% +-', round(interval*100,1) )\n",
    "    \n",
    "for acc in ['preference_matches_imgur','prediction_matches_imgur']:\n",
    "    mean, interval = mean_confidence_interval(votes[acc], confidence=0.95)\n",
    "    #print( acc, '\\t', round(100*mean,1), '% +-', round(interval*100,1) )\n",
    "\n",
    "for acc in ['preference_matches_imgur','prediction_matches_imgur']:\n",
    "    mean, interval = mean_confidence_interval(votes_with_pref2[acc], confidence=0.95)\n",
    "    #print( acc, '\\t', round(100*mean,1), '% +-', round(interval*100,1) )"
   ]
  },
  {
   "cell_type": "markdown",
   "metadata": {},
   "source": [
    "### Expertise Effect"
   ]
  },
  {
   "cell_type": "code",
   "execution_count": 162,
   "metadata": {},
   "outputs": [],
   "source": [
    "survey_columns = ['frequency_of_use', 'length_of_use',\n",
    "       'use_subreddit', 'browse_new_queue', 'vote_on_posts']\n",
    "\n",
    "survey_votes = votes[votes['completed_survey']==1]"
   ]
  },
  {
   "cell_type": "code",
   "execution_count": 164,
   "metadata": {},
   "outputs": [
    {
     "name": "stdout",
     "output_type": "stream",
     "text": [
      "frequency_of_use \n",
      "\t Counter({'Heavy': 12487, 'Casual': 7003, \"Don't use it\": 1385})\n",
      "length_of_use \n",
      "\t Counter({'Over a year': 17493, ' 0-12 months ': 1988, \"Don't use it\": 1394})\n",
      "use_subreddit \n",
      "\t Counter({'No': 11979, 'Yes': 5732, \"Don't use it\": 3164})\n",
      "browse_new_queue \n",
      "\t Counter({'No': 16232, 'Yes': 2636, \"Don't use it\": 2007})\n",
      "vote_on_posts \n",
      "\t Counter({'Yes': 13177, 'No': 6270, \"Don't use it\": 1428})\n"
     ]
    }
   ],
   "source": [
    "for q in survey_columns:\n",
    "    print(q,'\\n\\t',Counter(survey_votes[q]))"
   ]
  },
  {
   "cell_type": "markdown",
   "metadata": {},
   "source": [
    "#### Accuracy by Survey Responses"
   ]
  },
  {
   "cell_type": "code",
   "execution_count": 234,
   "metadata": {},
   "outputs": [
    {
     "data": {
      "text/plain": [
       "Index(['user_id', 'date_created', 'elapsed_time', 'subreddit', 'id',\n",
       "       'image_pair', 'image_A', 'image_A_chosen', 'image_A_chosen_opinion',\n",
       "       'image_A_quantile', 'image_A_imgur_views', 'image_A_score', 'image_B',\n",
       "       'image_B_chosen', 'image_B_chosen_opinion', 'image_B_quantile',\n",
       "       'image_B_imgur_views', 'image_B_score', 'image_A_percentile_label',\n",
       "       'image_B_percentile_label', 'image_pair_label',\n",
       "       'image_pair_percentile_diff', 'image_pair_percentile_diff_bin', 'q_id',\n",
       "       'game_id', 'prediction_majority', 'preference_majority',\n",
       "       'reddit_outcome', 'imgur_outcome', 'prop_select_prediction_majority',\n",
       "       'prop_select_preference_majority', 'prop_select_reddit_outcome',\n",
       "       'prop_select_imgur_outcome',\n",
       "       'prediction_majority_matches_preference_majority',\n",
       "       'reddit_matches_preference_majority',\n",
       "       'reddit_matches_prediction_majority',\n",
       "       'imgur_matches_preference_majority',\n",
       "       'imgur_matches_prediction_majority', 'prediction_agreement_bin',\n",
       "       'preference_agreement_bin', 'prediction', 'preference',\n",
       "       'prediction_matches_preference_majority',\n",
       "       'prediction_matches_prediction_majority', 'prediction_matches_reddit',\n",
       "       'prediction_matches_imgur', 'preference_matches_preference_majority',\n",
       "       'preference_matches_prediction_majority', 'preference_matches_reddit',\n",
       "       'preference_matches_imgur', 'frequency_of_use', 'length_of_use',\n",
       "       'use_subreddit', 'browse_new_queue', 'vote_on_posts',\n",
       "       'completed_survey', 'asked_for_preference', 'agreement',\n",
       "       'agreement_bin', 'response_time_bin'],\n",
       "      dtype='object')"
      ]
     },
     "execution_count": 234,
     "metadata": {},
     "output_type": "execute_result"
    }
   ],
   "source": [
    "survey_votes.columns"
   ]
  },
  {
   "cell_type": "code",
   "execution_count": 247,
   "metadata": {},
   "outputs": [
    {
     "name": "stdout",
     "output_type": "stream",
     "text": [
      "Don't Use it vs all other responses as one group 'use'\n",
      "\n",
      "\n",
      "frequency_of_use\n",
      "\t\tMean\t Use: 57.8% +-0.7 \t Don't Use: 56.5% +-3.1\n",
      "\t\tTtest(Use,Dont Use): p-value:  0.35831362154475244\n",
      "length_of_use\n",
      "\t\tMean\t Use: 57.8% +-0.7 \t Don't Use: 56.4% +-3.0\n",
      "\t\tTtest(Use,Dont Use): p-value:  0.32030836206473123\n",
      "use_subreddit\n",
      "\t\tMean\t Use: 57.7% +-0.7 \t Don't Use: 57.4% +-1.9\n",
      "\t\tTtest(Use,Dont Use): p-value:  0.7664885343416736\n",
      "browse_new_queue\n",
      "\t\tMean\t Use: 57.8% +-0.7 \t Don't Use: 56.5% +-2.4\n",
      "\t\tTtest(Use,Dont Use): p-value:  0.24661653796894667\n",
      "vote_on_posts\n",
      "\t\tMean\t Use: 57.8% +-0.7 \t Don't Use: 56.4% +-3.0\n",
      "\t\tTtest(Use,Dont Use): p-value:  0.30831250093493084\n"
     ]
    }
   ],
   "source": [
    "print(\"Don't Use it vs all other responses as one group 'use'\\n\\n\") \n",
    "for q in survey_columns:\n",
    "    print(q)\n",
    "    dontuse = survey_votes[survey_votes[q]==\"Don't use it\"]\n",
    "    use = survey_votes[survey_votes[q]!=\"Don't use it\"] \n",
    "     \n",
    "    user_acc_use  = use.groupby('user_id',as_index=False)[pred_acc_cols+['image_A_chosen']].mean()\n",
    "    user_acc_dontuse  = dontuse.groupby('user_id',as_index=False)[pred_acc_cols+['image_A_chosen']].mean() \n",
    "         \n",
    "    mean, interval = mean_confidence_interval(user_acc_use['image_A_chosen'], confidence=0.95)\n",
    "    mean_use = str( round(100*mean,1) )+ '% +-'+ str( round(interval*100,1) )\n",
    "    mean, interval = mean_confidence_interval(user_acc_dontuse['image_A_chosen'], confidence=0.95)\n",
    "    mean_dontuse = str( round(100*mean,1) )+ '% +-'+ str( round(interval*100,1) )\n",
    "\n",
    "    t, pval = stats.ttest_ind(user_acc_use['image_A_chosen'], user_acc_dontuse['image_A_chosen']) \n",
    "    print(\"\\t\\tMean\\t Use: {} \\t Don't Use: {}\".format(mean_use,mean_dontuse))\n",
    "    print(\"\\t\\tTtest(Use,Dont Use): p-value: \",pval)"
   ]
  },
  {
   "cell_type": "markdown",
   "metadata": {},
   "source": [
    "#### Power Users"
   ]
  },
  {
   "cell_type": "code",
   "execution_count": 159,
   "metadata": {},
   "outputs": [
    {
     "name": "stdout",
     "output_type": "stream",
     "text": [
      "1771 votes by 174 power users\n",
      "591 votes by 60 power users who use the subreddit surveyed.\n",
      "1189 votes by 121 power users who dont use Reddit.\n"
     ]
    }
   ],
   "source": [
    "power_user_survey_votes = survey_votes[survey_votes['frequency_of_use']=='Heavy']\n",
    "power_user_survey_votes = power_user_survey_votes[power_user_survey_votes['length_of_use']=='Over a year']\n",
    "\n",
    "power_user_survey_votes = power_user_survey_votes[power_user_survey_votes['vote_on_posts']=='Yes']\n",
    "power_user_survey_votes = power_user_survey_votes[power_user_survey_votes['browse_new_queue']=='Yes']\n",
    "\n",
    "non_power_user_survey_votes = survey_votes[survey_votes['frequency_of_use']!='Heavy']\n",
    "non_power_user_survey_votes = non_power_user_survey_votes[non_power_user_survey_votes['length_of_use']!='Over a year']\n",
    "non_power_user_survey_votes = non_power_user_survey_votes[non_power_user_survey_votes['vote_on_posts']!='Yes']\n",
    "non_power_user_survey_votes = non_power_user_survey_votes[non_power_user_survey_votes['browse_new_queue']!='Yes']\n",
    "\n",
    "non_power_user_survey_votes_who_use_sr = non_power_user_survey_votes[non_power_user_survey_votes['use_subreddit']=='Yes']\n",
    "non_power_user_survey_votes_who_dontuse_sr = non_power_user_survey_votes[non_power_user_survey_votes['use_subreddit']!='Yes']\n",
    "power_user_surveys_who_use_sr = power_user_survey_votes[power_user_survey_votes['use_subreddit']=='Yes']\n",
    "\n",
    "\n",
    "dontuse_user_survey_votes = survey_votes[survey_votes['frequency_of_use']==\"Don't use it\"]\n",
    "dontuse_user_survey_votes = dontuse_user_survey_votes[dontuse_user_survey_votes['length_of_use']==\"Don't use it\"]\n",
    "dontuse_user_survey_votes = dontuse_user_survey_votes[dontuse_user_survey_votes['vote_on_posts']==\"Don't use it\"]\n",
    "dontuse_user_survey_votes = dontuse_user_survey_votes[dontuse_user_survey_votes['browse_new_queue']==\"Don't use it\"]\n",
    "dontuse_user_survey_votes = dontuse_user_survey_votes[dontuse_user_survey_votes['use_subreddit']==\"Don't use it\"]\n",
    "\n",
    "print(len(power_user_survey_votes),'votes by',len(set(power_user_survey_votes['user_id'])),'power users')\n",
    "print(len(power_user_surveys_who_use_sr),'votes by',len(set(power_user_surveys_who_use_sr['user_id'])),\n",
    "      'power users who use the subreddit surveyed.')\n",
    "print(len(dontuse_user_survey_votes),'votes by',len(set(dontuse_user_survey_votes['user_id'])),\n",
    "      'power users who dont use Reddit.')"
   ]
  },
  {
   "cell_type": "code",
   "execution_count": 245,
   "metadata": {},
   "outputs": [
    {
     "name": "stdout",
     "output_type": "stream",
     "text": [
      "Power User Comparisons:\n",
      "\n",
      "power user  vs.  non-power user\n",
      "\tMean\t Power User: 57.0% +-2.9 \t Not Power User: 54.8% +-2.6\n",
      "\tTtest(Power User,Not Power User) p-value:  0.27324409681186185\n",
      "\tMean\t Power User: 57.6% +-2.4 \t Not Power User: 56.4% +-2.3\n",
      "\tTtest(Power User,Not Power User) p-value:  0.46533878172345544\n",
      "power users who use subreddit  vs.  non-power user who *is* familiar with subreddit\n",
      "\tMean\t Power User: 56.3% +-5.2 \t Not Power User: 44.9% +-4.9\n",
      "\tTtest(Power User,Not Power User) p-value:  0.06319240972130456\n",
      "\tMean\t Power User: 57.3% +-4.3 \t Not Power User: 46.4% +-5.0\n",
      "\tTtest(Power User,Not Power User) p-value:  0.045710566563540465\n",
      "power users who use subreddit  vs.  non-power user who is *not* familiar with subreddit\n",
      "\tMean\t Power User: 56.3% +-5.2 \t Not Power User: 55.4% +-2.7\n",
      "\tTtest(Power User,Not Power User) p-value:  0.7520294841803585\n",
      "\tMean\t Power User: 57.3% +-4.3 \t Not Power User: 56.8% +-2.4\n",
      "\tTtest(Power User,Not Power User) p-value:  0.8691340732560876\n",
      "power user  vs.  dont-use user\n",
      "\tMean\t Power User: 57.0% +-2.9 \t Not Power User: 54.6% +-3.7\n",
      "\tTtest(Power User,Not Power User) p-value:  0.30029114017657693\n",
      "\tMean\t Power User: 57.6% +-2.4 \t Not Power User: 56.3% +-3.4\n",
      "\tTtest(Power User,Not Power User) p-value:  0.5224442645803729\n",
      "power users who use subreddit  vs.  dont-use user\n",
      "\tMean\t Power User: 56.3% +-5.2 \t Not Power User: 54.6% +-3.7\n",
      "\tTtest(Power User,Not Power User) p-value:  0.5963722342396606\n",
      "\tMean\t Power User: 57.3% +-4.3 \t Not Power User: 56.3% +-3.4\n",
      "\tTtest(Power User,Not Power User) p-value:  0.7340837168932723\n"
     ]
    }
   ],
   "source": [
    "survey_use_responses = {'frequency_of_use':['Heavy','Casual'], \n",
    "                        'length_of_use':['Over a year',' 0-12 months '],\n",
    "                        'use_subreddit':['Yes','No'], \n",
    "                        'browse_new_queue':['Yes','No'], \n",
    "                        'vote_on_posts':['Yes','No']}\n",
    " \n",
    "print('Power User Comparisons:\\n')\n",
    "for power_user_type, non_power_user_type, power_user_votes, non_power_user_votes in [\n",
    "    ('power user','non-power user',power_user_survey_votes,non_power_user_survey_votes),\n",
    "    ('power users who use subreddit','non-power user who *is* familiar with subreddit',\n",
    "     power_user_surveys_who_use_sr,non_power_user_survey_votes_who_use_sr),\n",
    "    ('power users who use subreddit','non-power user who is *not* familiar with subreddit',\n",
    "     power_user_surveys_who_use_sr,non_power_user_survey_votes_who_dontuse_sr),\n",
    "    ('power user','dont-use user',power_user_survey_votes,dontuse_user_survey_votes),\n",
    "    ('power users who use subreddit','dont-use user',\n",
    "     power_user_surveys_who_use_sr,dontuse_user_survey_votes) ]: \n",
    "    \n",
    "    print(power_user_type, ' vs. ', non_power_user_type) \n",
    "    user_acc_PU = power_user_votes[power_user_votes['asked_for_preference']==1].groupby('user_id',as_index=False)[['image_A_chosen']].mean()\n",
    "    user_acc_NPU = non_power_user_votes[non_power_user_votes['asked_for_preference']==1].groupby('user_id',as_index=False)[['image_A_chosen']].mean()\n",
    "    \n",
    "    \n",
    "    for acc_col in ['image_A_chosen']:# pref_acc_cols: \n",
    "        mean, interval = mean_confidence_interval(user_acc_PU[acc_col], confidence=0.95)\n",
    "        mean_PU = str( round(100*mean,1) )+ '% +-'+ str( round(interval*100,1) )\n",
    "        mean, interval = mean_confidence_interval(user_acc_NPU[acc_col], confidence=0.95)\n",
    "        mean_NPU = str( round(100*mean,1) )+ '% +-'+ str( round(interval*100,1) )\n",
    "\n",
    "        t, pval = stats.ttest_ind(user_acc_PU[acc_col], user_acc_NPU[acc_col])  \n",
    "        print(\"\\tMean\\t Power User: {} \\t Not Power User: {}\".format(mean_PU,mean_NPU))\n",
    "        print(\"\\tTtest(Power User,Not Power User) p-value: \",pval)\n",
    "\n",
    "    user_acc_PU = power_user_votes.groupby('user_id',as_index=False)[['image_A_chosen']].mean()\n",
    "    user_acc_NPU = non_power_user_votes.groupby('user_id',as_index=False)[['image_A_chosen']].mean() \n",
    "    for acc_col in ['image_A_chosen']:    \n",
    "        mean, interval = mean_confidence_interval(user_acc_PU[acc_col], confidence=0.95)\n",
    "        mean_PU = str( round(100*mean,1) )+ '% +-'+ str( round(interval*100,1) )\n",
    "        mean, interval = mean_confidence_interval(user_acc_NPU[acc_col], confidence=0.95)\n",
    "        mean_NPU = str( round(100*mean,1) )+ '% +-'+ str( round(interval*100,1) )\n",
    "\n",
    "        t, pval = stats.ttest_ind(user_acc_PU[acc_col], user_acc_NPU[acc_col]) \n",
    "        print(\"\\tMean\\t Power User: {} \\t Not Power User: {}\".format(mean_PU,mean_NPU))\n",
    "        print(\"\\tTtest(Power User,Not Power User) p-value: \",pval)\n"
   ]
  },
  {
   "cell_type": "code",
   "execution_count": 263,
   "metadata": {},
   "outputs": [
    {
     "name": "stdout",
     "output_type": "stream",
     "text": [
      "frequency_of_use  ---  power users (no sr use q)\n",
      "\tnon-poweruser = Don't use it\n",
      "\tMean\t Power User: 57.6% +-2.4 \t Non-Power User: 56.5% +-3.1\n",
      "\tTtest for frequency_of_use(Power User,Don't use it) \tp-value=0.5828527061897624\n",
      "\n",
      "\tnon-poweruser = Casual\n",
      "\tMean\t Power User: 57.6% +-2.4 \t Non-Power User: 56.1% +-3.2\n",
      "\tTtest for frequency_of_use(Power User,Casual) \tp-value=0.4737511855294996\n",
      "\n",
      "length_of_use  ---  power users (no sr use q)\n",
      "\tnon-poweruser = Don't use it\n",
      "\tMean\t Power User: 57.6% +-2.4 \t Non-Power User: 56.6% +-3.1\n",
      "\tTtest for length_of_use(Power User,Don't use it) \tp-value=0.6038689977352185\n",
      "\n",
      "\tnon-poweruser =  0-12 months \n",
      "\tMean\t Power User: 57.6% +-2.4 \t Non-Power User: 55.9% +-3.3\n",
      "\tTtest for length_of_use(Power User, 0-12 months ) \tp-value=0.44437903712716653\n",
      "\n",
      "use_subreddit  ---  power users (no sr use q)\n",
      "\tnon-poweruser = Don't use it\n",
      "\tMean\t Power User: 57.6% +-2.4 \t Non-Power User: 56.4% +-3.1\n",
      "\tTtest for use_subreddit(Power User,Don't use it) \tp-value=0.5577084182404215\n",
      "\n",
      "\tnon-poweruser = Yes\n",
      "\tMean\t Power User: 57.6% +-2.4 \t Non-Power User: 46.4% +-5.0\n",
      "\tTtest for use_subreddit(Power User,Yes) \tp-value=0.029541614018239872\n",
      "\n",
      "\tnon-poweruser = No\n",
      "\tMean\t Power User: 57.6% +-2.4 \t Non-Power User: 57.8% +-3.5\n",
      "\tTtest for use_subreddit(Power User,No) \tp-value=0.9324094947591328\n",
      "\n",
      "browse_new_queue  ---  power users (no sr use q)\n",
      "\tnon-poweruser = Don't use it\n",
      "\tMean\t Power User: 57.6% +-2.4 \t Non-Power User: 55.8% +-3.1\n",
      "\tTtest for browse_new_queue(Power User,Don't use it) \tp-value=0.37363929644683347\n",
      "\n",
      "\tnon-poweruser = No\n",
      "\tMean\t Power User: 57.6% +-2.4 \t Non-Power User: 57.3% +-3.2\n",
      "\tTtest for browse_new_queue(Power User,No) \tp-value=0.8860335898499296\n",
      "\n",
      "vote_on_posts  ---  power users (no sr use q)\n",
      "\tnon-poweruser = Don't use it\n",
      "\tMean\t Power User: 57.6% +-2.4 \t Non-Power User: 56.4% +-3.2\n",
      "\tTtest for vote_on_posts(Power User,Don't use it) \tp-value=0.5431679315596942\n",
      "\n",
      "\tnon-poweruser = No\n",
      "\tMean\t Power User: 57.6% +-2.4 \t Non-Power User: 56.3% +-3.2\n",
      "\tTtest for vote_on_posts(Power User,No) \tp-value=0.5361120677258221\n",
      "\n",
      "frequency_of_use  ---  power users who use sr surveyed\n",
      "\tnon-poweruser = Don't use it\n",
      "\tMean\t Power User: 57.3% +-4.3 \t Non-Power User: 44.4% +-nan\n",
      "\tTtest for frequency_of_use(Power User,Don't use it) \tp-value=nan\n",
      "\n",
      "\tnon-poweruser = Casual\n",
      "\tMean\t Power User: 57.3% +-4.3 \t Non-Power User: 46.6% +-5.7\n",
      "\tTtest for frequency_of_use(Power User,Casual) \tp-value=0.06280406190758375\n",
      "\n",
      "length_of_use  ---  power users who use sr surveyed\n",
      "\tnon-poweruser = Don't use it\n",
      "\tMean\t Power User: 57.3% +-4.3 \t Non-Power User: 44.4% +-nan\n",
      "\tTtest for length_of_use(Power User,Don't use it) \tp-value=nan\n",
      "\n",
      "\tnon-poweruser =  0-12 months \n",
      "\tMean\t Power User: 57.3% +-4.3 \t Non-Power User: 46.6% +-5.7\n",
      "\tTtest for length_of_use(Power User, 0-12 months ) \tp-value=0.06280406190758375\n",
      "\n",
      "use_subreddit  ---  power users who use sr surveyed\n",
      "\tnon-poweruser = Don't use it\n",
      "\tMean\t Power User: 57.3% +-4.3 \t Non-Power User: nan% +-nan\n",
      "\tTtest for use_subreddit(Power User,Don't use it) \tp-value=nan\n",
      "\n",
      "\tnon-poweruser = Yes\n",
      "\tMean\t Power User: 57.3% +-4.3 \t Non-Power User: 46.4% +-5.0\n",
      "\tTtest for use_subreddit(Power User,Yes) \tp-value=0.045710566563540465\n",
      "\n",
      "\tnon-poweruser = No\n",
      "\tMean\t Power User: 57.3% +-4.3 \t Non-Power User: nan% +-nan\n",
      "\tTtest for use_subreddit(Power User,No) \tp-value=nan\n",
      "\n",
      "browse_new_queue  ---  power users who use sr surveyed\n",
      "\tnon-poweruser = Don't use it\n",
      "\tMean\t Power User: 57.3% +-4.3 \t Non-Power User: nan% +-nan\n",
      "\tTtest for browse_new_queue(Power User,Don't use it) \tp-value=nan\n",
      "\n",
      "\tnon-poweruser = No\n",
      "\tMean\t Power User: 57.3% +-4.3 \t Non-Power User: 46.4% +-5.0\n",
      "\tTtest for browse_new_queue(Power User,No) \tp-value=0.045710566563540465\n",
      "\n",
      "vote_on_posts  ---  power users who use sr surveyed\n",
      "\tnon-poweruser = Don't use it\n",
      "\tMean\t Power User: 57.3% +-4.3 \t Non-Power User: nan% +-nan\n",
      "\tTtest for vote_on_posts(Power User,Don't use it) \tp-value=nan\n",
      "\n",
      "\tnon-poweruser = No\n",
      "\tMean\t Power User: 57.3% +-4.3 \t Non-Power User: 46.4% +-5.0\n",
      "\tTtest for vote_on_posts(Power User,No) \tp-value=0.045710566563540465\n",
      "\n"
     ]
    },
    {
     "name": "stderr",
     "output_type": "stream",
     "text": [
      "/usr/local/lib/python3.4/dist-packages/numpy/core/_methods.py:135: RuntimeWarning: Degrees of freedom <= 0 for slice\n",
      "  keepdims=keepdims)\n",
      "/usr/local/lib/python3.4/dist-packages/numpy/core/_methods.py:127: RuntimeWarning: invalid value encountered in double_scalars\n",
      "  ret = ret.dtype.type(ret / rcount)\n",
      "/usr/local/lib/python3.4/dist-packages/numpy/core/fromnumeric.py:3194: RuntimeWarning: Degrees of freedom <= 0 for slice\n",
      "  **kwargs)\n",
      "/usr/local/lib/python3.4/dist-packages/numpy/core/fromnumeric.py:2957: RuntimeWarning: Mean of empty slice.\n",
      "  out=out, **kwargs)\n",
      "/usr/local/lib/python3.4/dist-packages/numpy/core/_methods.py:80: RuntimeWarning: invalid value encountered in double_scalars\n",
      "  ret = ret.dtype.type(ret / rcount)\n",
      "/usr/local/lib/python3.4/dist-packages/numpy/core/_methods.py:105: RuntimeWarning: invalid value encountered in true_divide\n",
      "  arrmean, rcount, out=arrmean, casting='unsafe', subok=False)\n"
     ]
    }
   ],
   "source": [
    "survey_nonpower_user_responses = {'frequency_of_use':[\"Don't use it\",'Casual'], \n",
    "                        'length_of_use':[\"Don't use it\",' 0-12 months '],\n",
    "                        'use_subreddit':[\"Don't use it\",'Yes','No'], \n",
    "                        'browse_new_queue':[\"Don't use it\",'No'], \n",
    "                        'vote_on_posts':[\"Don't use it\",'No']}\n",
    "\n",
    "for user_type, power_user_data, non_power_user_dataALL in [('power users (no sr use q)', \n",
    "                                                         power_user_survey_votes,\n",
    "                                                         non_power_user_survey_votes),\n",
    "                                                        ('power users who use sr surveyed', \n",
    "                                                         power_user_surveys_who_use_sr,\n",
    "                                                         non_power_user_survey_votes_who_use_sr )]:\n",
    "\n",
    "    for q in survey_columns:\n",
    "        print(q, ' --- ', user_type)\n",
    "        #print(survey_nonpower_user_responses[q])\n",
    "        for survey_response in survey_nonpower_user_responses[q]: \n",
    "            print('\\tnon-poweruser =',survey_response)\n",
    "            non_power_user_data = non_power_user_dataALL[non_power_user_dataALL[q]==survey_response]\n",
    " \n",
    "            user_acc_power_user = power_user_data.groupby('user_id',as_index=False)[['image_A_chosen']].mean()\n",
    "            user_acc_non_power_user = non_power_user_data.groupby('user_id',as_index=False)[['image_A_chosen']].mean() \n",
    "            for acc_col in ['image_A_chosen']:  #pred_acc_cols:     \n",
    "                mean, interval = mean_confidence_interval(user_acc_power_user[acc_col], confidence=0.95)\n",
    "                mean_PU = str( round(100*mean,1) )+ '% +-'+ str( round(interval*100,1) )\n",
    "                mean, interval = mean_confidence_interval(user_acc_non_power_user[acc_col], confidence=0.95)\n",
    "                mean_NPU = str( round(100*mean,1) )+ '% +-'+ str( round(interval*100,1) )\n",
    "\n",
    "                t, pval = stats.ttest_ind(user_acc_power_user[acc_col], user_acc_non_power_user[acc_col]) \n",
    "                print(\"\\tMean\\t Power User: {} \\t Non-Power User: {}\".format(mean_PU,mean_NPU))\n",
    "                print(\"\\tTtest for {}(Power User,{}) \\tp-value={}\\n\".format(q,survey_response,pval)) \n",
    "\n",
    "                "
   ]
  },
  {
   "cell_type": "markdown",
   "metadata": {},
   "source": [
    "### Effort Effect"
   ]
  },
  {
   "cell_type": "code",
   "execution_count": 223,
   "metadata": {},
   "outputs": [
    {
     "data": {
      "image/png": "[encoded data removed]",
      "text/plain": [
       "<matplotlib.figure.Figure at 0x7ff8d4515198>"
      ]
     },
     "metadata": {},
     "output_type": "display_data"
    }
   ],
   "source": [
    "# response time distributions\n",
    "judgement_col = 'image_A_chosen'\n",
    "votes['n_responses'] = [1]*len(votes)\n",
    "pltdat = votes.groupby([judgement_col,'response_time_bin'],as_index=False)[['n_responses']].count()\n",
    "for hueColVal, hueColor, lab in [(0,'red','Incorrect Prediction'),\n",
    "                            (1,'green','Correct Prediction')]:\n",
    "    hueData = pltdat[pltdat[judgement_col]==hueColVal] \n",
    "    plt.plot(hueData['response_time_bin'],hueData['n_responses'],\n",
    "             color=hueColor,label=lab)\n",
    "plt.xlim(0,30)\n",
    "plt.legend(loc=9, bbox_to_anchor=(0.5, -0.15), ncol=2) \n",
    "plt.show()"
   ]
  },
  {
   "cell_type": "code",
   "execution_count": 202,
   "metadata": {},
   "outputs": [
    {
     "name": "stdout",
     "output_type": "stream",
     "text": [
      "\n",
      "\n",
      "T-Test\n",
      "                                comparing      T  pvalue  mean (correct)  mean (incorrect)  median (correct)  median (incorrect)\n",
      "0  prediction_matches_preference_majority -0.808   0.419          21.992            26.200               8.0                 8.0\n",
      "1  preference_matches_preference_majority  0.306   0.760          24.375            22.819               8.0                 8.0\n",
      "2  prediction_matches_preference_majority -0.760   0.447          26.011            32.116               9.0                10.0\n",
      "3  preference_matches_preference_majority -0.656   0.512          26.487            31.864               9.0                 9.0\n",
      "\n",
      "\n",
      "Correlation\n",
      "\n",
      "prediction_matches_preference_majority\n",
      " pearsonR=-0.032 R2=0.001 p=0.5398\n",
      "y=-3.114333973e-06*x +0.590455};% (0.001,0.5398)\n",
      "\n",
      "preference_matches_preference_majority\n",
      " pearsonR=-0.0193 R2=0.0004 p=0.7113\n",
      "y=-1.873351049e-06*x +0.573682};% (0.0,0.7113)\n",
      "\n"
     ]
    }
   ],
   "source": [
    "# t test between correct and incorrect\n",
    "print('\\n\\nT-Test')\n",
    "delayres = pd.DataFrame(columns=['comparing','T', 'pvalue','mean (correct)','mean (incorrect)','median (correct)','median (incorrect)'])\n",
    "for votedata in [votes,votes_with_pref]:\n",
    "    for player_predictor_col in player_predictors:\n",
    "        x = votedata[votedata[player_predictor_col]==1]['elapsed_time']\n",
    "        y = votedata[votedata[player_predictor_col]==0]['elapsed_time']\n",
    "        t, pval = stats.ttest_ind(x, y) \n",
    "        mean_corr, mean_incorr = np.mean(x), np.mean(y)\n",
    "        median_corr, median_incorr = np.median(x), np.median(y)\n",
    "        delayres.loc[len(delayres)]=[player_predictor_col,t, pval, mean_corr, mean_incorr, median_corr, median_incorr]\n",
    "print(delayres)  \n",
    "\n",
    "\n",
    "# correlation of accuracy to response time, R2 and pvalue\n",
    "print('\\n\\nCorrelation\\n')\n",
    "votes.loc[:,'response_time_bin'] = [math.ceil(x) for x in votes['elapsed_time']]\n",
    "for player_predictor_col in player_predictors:\n",
    "    print(player_predictor_col)\n",
    "    response_time_acc = votes.groupby('response_time_bin',as_index=False)[[player_predictor_col]].mean()\n",
    "    rval, p = stats.pearsonr(response_time_acc['response_time_bin'], response_time_acc[player_predictor_col])\n",
    "    rsquared = rval * rval\n",
    "    m, b, rLR, pLR, std_err = stats.linregress(response_time_acc['response_time_bin'],\n",
    "                                               response_time_acc[player_predictor_col])\n",
    "    rsquared2 = rLR * rLR\n",
    "    titleVal = ' pearsonR='+str(round(rval,4))+' R2='+ str(round(rsquared,4)) + ' p='+str(round(p,4)) \n",
    "    titleVal = titleVal + '\\ny='+str(round(m,15))+'*x +'+str(round(b,6))+'};% ('\n",
    "    titleVal = titleVal + str(round(rsquared2,3))+','+str(round(pLR,4))+')\\n'\n",
    "    print(titleVal)"
   ]
  },
  {
   "cell_type": "markdown",
   "metadata": {},
   "source": [
    "## Reddit Score Percentile Differences and Agreement"
   ]
  },
  {
   "cell_type": "code",
   "execution_count": 58,
   "metadata": {},
   "outputs": [
    {
     "data": {
      "text/plain": [
       "<matplotlib.text.Text at 0x7ff8d526d630>"
      ]
     },
     "execution_count": 58,
     "metadata": {},
     "output_type": "execute_result"
    },
    {
     "data": {
      "image/png": "[encoded data removed]",
      "text/plain": [
       "<matplotlib.figure.Figure at 0x7ff8d52bdcc0>"
      ]
     },
     "metadata": {},
     "output_type": "display_data"
    }
   ],
   "source": [
    "# Reddit Score Percentile Differences as a function of fleiss kappa (k)\n",
    "\n",
    "sns.regplot(x='fleiss_kappa',y='image_pair_percentile_diff',\n",
    "           data=pairs[pairs['reddit_matches_preference_majority']==1],\n",
    "            label='Correct Prediction',fit_reg=False,scatter_kws={\"color\": \"green\"})\n",
    "sns.regplot(x='fleiss_kappa',y='image_pair_percentile_diff',\n",
    "           data=pairs[pairs['reddit_matches_preference_majority']==0],\n",
    "            label='Incorrect Prediction',fit_reg=False,scatter_kws={\"color\": \"red\"})\n",
    "plt.xlim(-0.1,1.1)\n",
    "plt.ylim(-0.1,1.1)\n",
    "plt.xlabel(r'$\\kappa$')\n",
    "plt.ylabel(r'Reddit Score-Percentile $\\Delta$')\n",
    "plt.legend(loc=9, bbox_to_anchor=(0.5, -0.15), ncol=2)\n",
    "plt.title('Reddit Vote-Scores')\n"
   ]
  },
  {
   "cell_type": "code",
   "execution_count": null,
   "metadata": {},
   "outputs": [],
   "source": []
  }
 ],
 "metadata": {
  "kernelspec": {
   "display_name": "Python 3",
   "language": "python",
   "name": "python3"
  },
  "language_info": {
   "codemirror_mode": {
    "name": "ipython",
    "version": 3
   },
   "file_extension": ".py",
   "mimetype": "text/x-python",
   "name": "python",
   "nbconvert_exporter": "python",
   "pygments_lexer": "ipython3",
   "version": "3.4.3"
  }
 },
 "nbformat": 4,
 "nbformat_minor": 2
}
